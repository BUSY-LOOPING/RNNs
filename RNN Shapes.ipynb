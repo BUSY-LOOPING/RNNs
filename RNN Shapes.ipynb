{
 "cells": [
  {
   "cell_type": "code",
   "execution_count": 55,
   "id": "ecca779c-147d-4e0f-94be-b434491425fa",
   "metadata": {},
   "outputs": [],
   "source": [
    "import numpy as np\n",
    "from keras.layers import Input, SimpleRNN, Dense\n",
    "from keras.models import Model\n",
    "import tensorflow.keras.backend as Ki"
   ]
  },
  {
   "cell_type": "code",
   "execution_count": 56,
   "id": "44c0c6e7-41ba-48e1-b7fd-9efc3f94b8b5",
   "metadata": {},
   "outputs": [],
   "source": [
    "N = 1\n",
    "T = 10\n",
    "D = 3\n",
    "K = 2\n",
    "M = 5\n",
    "X = np.random.randn(N, T, D)"
   ]
  },
  {
   "cell_type": "code",
   "execution_count": 57,
   "id": "3ce824dc-bf95-42b2-aa1b-162fceb090e0",
   "metadata": {},
   "outputs": [
    {
     "name": "stdout",
     "output_type": "stream",
     "text": [
      "Model: \"model_4\"\n",
      "_________________________________________________________________\n",
      " Layer (type)                Output Shape              Param #   \n",
      "=================================================================\n",
      " input_8 (InputLayer)        [(None, 10, 3)]           0         \n",
      "                                                                 \n",
      " simple_rnn_6 (SimpleRNN)    (1, 10, 5)                45        \n",
      "                                                                 \n",
      " dense_5 (Dense)             (1, 10, 2)                12        \n",
      "                                                                 \n",
      "=================================================================\n",
      "Total params: 57\n",
      "Trainable params: 57\n",
      "Non-trainable params: 0\n",
      "_________________________________________________________________\n"
     ]
    }
   ],
   "source": [
    "i = Input(shape=(T, D))\n",
    "# Initial hidden state\n",
    "h_initial = np.zeros((N, M))\n",
    "h_initial = Ki.constant(h_initial)  # Convert to a symbolic tensor\n",
    "\n",
    "x = SimpleRNN(M, return_sequences = True) (i, initial_state=[h_initial])\n",
    "x = Dense(K) (x)\n",
    "\n",
    "model = Model(i, x)\n",
    "model.summary()"
   ]
  },
  {
   "cell_type": "code",
   "execution_count": 58,
   "id": "c9bbd482-c1be-49b4-bb29-e50b1269cb6d",
   "metadata": {},
   "outputs": [
    {
     "name": "stdout",
     "output_type": "stream",
     "text": [
      "WARNING:tensorflow:5 out of the last 8 calls to <function Model.make_predict_function.<locals>.predict_function at 0x000002119AB671F0> triggered tf.function retracing. Tracing is expensive and the excessive number of tracings could be due to (1) creating @tf.function repeatedly in a loop, (2) passing tensors with different shapes, (3) passing Python objects instead of tensors. For (1), please define your @tf.function outside of the loop. For (2), @tf.function has reduce_retracing=True option that can avoid unnecessary retracing. For (3), please refer to https://www.tensorflow.org/guide/function#controlling_retracing and https://www.tensorflow.org/api_docs/python/tf/function for  more details.\n",
      "1/1 [==============================] - 0s 129ms/step\n"
     ]
    },
    {
     "data": {
      "text/plain": [
       "array([[[ 0.58658147,  0.3844272 ],\n",
       "        [ 0.10340361, -0.16616647],\n",
       "        [-0.7074378 , -0.66981906],\n",
       "        [-0.19141753,  0.28132433],\n",
       "        [-0.5571394 , -0.10354754],\n",
       "        [ 0.8209824 ,  1.0594853 ],\n",
       "        [-0.36949483, -0.3721453 ],\n",
       "        [ 0.38938594,  0.31682038],\n",
       "        [ 0.08826703,  0.68685114],\n",
       "        [ 0.6898875 ,  0.5839136 ]]], dtype=float32)"
      ]
     },
     "execution_count": 58,
     "metadata": {},
     "output_type": "execute_result"
    }
   ],
   "source": [
    "Yhat = model.predict(X)\n",
    "Yhat"
   ]
  },
  {
   "cell_type": "code",
   "execution_count": 59,
   "id": "a0fab89a-6e16-4165-aac8-5d4ae1bb6d3a",
   "metadata": {},
   "outputs": [
    {
     "name": "stdout",
     "output_type": "stream",
     "text": [
      "(3, 5) (5, 5) (5,) (5, 2) (2,)\n"
     ]
    }
   ],
   "source": [
    "a, b, c = model.layers[1].get_weights()\n",
    "d, e = model.layers[2].get_weights()\n",
    "print(a.shape, b.shape, c.shape, d.shape, e.shape)"
   ]
  },
  {
   "cell_type": "code",
   "execution_count": 60,
   "id": "f0ed580f-ea98-449f-acc4-3eb078b07e63",
   "metadata": {},
   "outputs": [],
   "source": [
    "Wx, Wh, bh = model.layers[1].get_weights()\n",
    "Wo, bo = model.layers[2].get_weights()"
   ]
  },
  {
   "cell_type": "code",
   "execution_count": 70,
   "id": "a27f46eb-a1e4-4152-be42-2e61eafe7eef",
   "metadata": {},
   "outputs": [
    {
     "name": "stdout",
     "output_type": "stream",
     "text": [
      "[[ 0.58658147  0.38442722]\n",
      " [ 0.3672122  -0.01220971]\n",
      " [-0.967816   -0.41571814]\n",
      " [-0.32865834 -0.36167917]\n",
      " [-0.46983832  0.24986655]\n",
      " [ 0.0766187  -0.04543108]\n",
      " [-0.3151996  -0.25450593]\n",
      " [ 0.21730487  0.2288258 ]\n",
      " [ 0.17538092  0.3407625 ]\n",
      " [ 0.03398007 -0.14124103]]\n"
     ]
    }
   ],
   "source": [
    "h_last = np.zeros(M).astype(np.float32)\n",
    "x = X[0]  #shape = TxD\n",
    "Yhats = []\n",
    "\n",
    "for t in range(T) :\n",
    "    h = np.tanh(x[t].dot(Wx) + h_last.dot(Wh) + bh).astype(np.float32)\n",
    "    y = (h.dot(Wo) + bo).astype(np.float32)\n",
    "    \n",
    "    Yhats.append(y)\n",
    "    \n",
    "Yhats = np.array(Yhats)\n",
    "print(Yhats)"
   ]
  },
  {
   "cell_type": "code",
   "execution_count": null,
   "id": "d77015cf-08e4-4fa7-b982-bb96b44f3667",
   "metadata": {},
   "outputs": [],
   "source": []
  }
 ],
 "metadata": {
  "kernelspec": {
   "display_name": "venv",
   "language": "python",
   "name": "venv"
  },
  "language_info": {
   "codemirror_mode": {
    "name": "ipython",
    "version": 3
   },
   "file_extension": ".py",
   "mimetype": "text/x-python",
   "name": "python",
   "nbconvert_exporter": "python",
   "pygments_lexer": "ipython3",
   "version": "3.9.4"
  }
 },
 "nbformat": 4,
 "nbformat_minor": 5
}
